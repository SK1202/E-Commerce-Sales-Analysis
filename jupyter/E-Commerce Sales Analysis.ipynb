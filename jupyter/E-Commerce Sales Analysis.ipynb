{
 "cells": [
  {
   "cell_type": "markdown",
   "metadata": {},
   "source": [
    "# E-Commerce Sales Analysis "
   ]
  },
  {
   "cell_type": "code",
   "execution_count": 6,
   "metadata": {},
   "outputs": [],
   "source": [
    "# Importing the necessary libraries for data manipulation and plotting\n",
    "import pandas as pd  # Pandas for data handling\n",
    "import plotly.express as px  # Plotly Express for quick graph creation\n",
    "import plotly.graph_objects as go  # Plotly Graph Objects for more complex graph customization\n",
    "import plotly.io as pio  # Plotly IO for graph templates and input/output operations\n",
    "import plotly.colors as colors  # Importing Plotly's color library for custom color schemes\n",
    "\n",
    "# Setting the default Plotly template to 'plotly_white' for white background charts\n",
    "pio.templates.default = \"plotly_white\"\n"
   ]
  },
  {
   "cell_type": "code",
   "execution_count": null,
   "metadata": {},
   "outputs": [],
   "source": []
  }
 ],
 "metadata": {
  "kernelspec": {
   "display_name": ".venv",
   "language": "python",
   "name": "python3"
  },
  "language_info": {
   "codemirror_mode": {
    "name": "ipython",
    "version": 3
   },
   "file_extension": ".py",
   "mimetype": "text/x-python",
   "name": "python",
   "nbconvert_exporter": "python",
   "pygments_lexer": "ipython3",
   "version": "3.13.1"
  }
 },
 "nbformat": 4,
 "nbformat_minor": 2
}
